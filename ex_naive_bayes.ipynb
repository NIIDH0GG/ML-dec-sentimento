{
  "nbformat": 4,
  "nbformat_minor": 0,
  "metadata": {
    "colab": {
      "provenance": []
    },
    "kernelspec": {
      "name": "python3",
      "display_name": "Python 3"
    },
    "language_info": {
      "name": "python"
    }
  },
  "cells": [
    {
      "cell_type": "code",
      "source": [
        "# Import de biblioteca\n",
        "from sklearn.feature_extraction.text import CountVectorizer\n",
        "from sklearn.naive_bayes import MultinomialNB\n",
        "from sklearn.pipeline import make_pipeline"
      ],
      "metadata": {
        "id": "-lyfIT2PzYkX"
      },
      "execution_count": 45,
      "outputs": []
    },
    {
      "cell_type": "code",
      "source": [
        "# Dados para treinamento\n",
        "frases = [\n",
        "    \"Eu adorei esse filme\",           # Positivo\n",
        "    \"Que ótimo dia\",                  # Positivo\n",
        "    \"Esse produto é excelente\",       # Positivo\n",
        "    \"Estou muito feliz hoje\",         # Positivo\n",
        "    \"A comida estava maravilhosa\",    # Positivo\n",
        "\n",
        "    \"O filme foi terrível\",           # Negativo\n",
        "    \"Que dia horrível\",               # Negativo\n",
        "    \"Esse produto é péssimo\",         # Negativo\n",
        "    \"Estou muito triste\",             # Negativo\n",
        "    \"A comida estava ruim\",           # Negativo\n",
        "]"
      ],
      "metadata": {
        "id": "5iNxccvK5v1I"
      },
      "execution_count": 46,
      "outputs": []
    },
    {
      "cell_type": "code",
      "source": [
        "# Rotulação e treinamento\n",
        "rotulos = [1, 1, 1, 1, 1, 0, 0, 0, 0, 0]\n",
        "\n",
        "modelo = make_pipeline(CountVectorizer(), MultinomialNB())\n",
        "\n",
        "modelo.fit(frases, rotulos)"
      ],
      "metadata": {
        "collapsed": true,
        "id": "z_bBUtFp5qHW"
      },
      "execution_count": null,
      "outputs": []
    },
    {
      "cell_type": "code",
      "source": [
        "# Dados do Usuario\n",
        "entrada = input(\"Digite uma frase para análise de sentimento: \")\n",
        "\n",
        "resultado = modelo.predict([entrada])[0]\n",
        "\n",
        "if resultado == 1:\n",
        "    print(\" Sentimento POSITIVO\")\n",
        "else:\n",
        "    print(\" Sentimento NEGATIVO\")"
      ],
      "metadata": {
        "colab": {
          "base_uri": "https://localhost:8080/"
        },
        "id": "A0qFqUDs6EyJ",
        "outputId": "7483224a-0621-4cf8-c770-a4d1255ad91c"
      },
      "execution_count": 55,
      "outputs": [
        {
          "output_type": "stream",
          "name": "stdout",
          "text": [
            "Digite uma frase para análise de sentimento: Hoje estou triste\n",
            " Sentimento NEGATIVO\n"
          ]
        }
      ]
    }
  ]
}
